{
  "nbformat": 4,
  "nbformat_minor": 0,
  "metadata": {
    "kernelspec": {
      "display_name": "Python 3",
      "language": "python",
      "name": "python3"
    },
    "language_info": {
      "codemirror_mode": {
        "name": "ipython",
        "version": 3
      },
      "file_extension": ".py",
      "mimetype": "text/x-python",
      "name": "python",
      "nbconvert_exporter": "python",
      "pygments_lexer": "ipython3",
      "version": "3.7.4"
    },
    "colab": {
      "name": "SARIMA_Monthly.ipynb",
      "provenance": [],
      "collapsed_sections": []
    }
  },
  "cells": [
    {
      "cell_type": "code",
      "metadata": {
        "id": "3RjCAh2YzV-9",
        "colab": {
          "base_uri": "https://localhost:8080/",
          "height": 124
        },
        "outputId": "abb19872-b69f-4e5d-d753-29ec8112072c"
      },
      "source": [
        "from google.colab import drive\n",
        "drive.mount('/content/gdrive')"
      ],
      "execution_count": null,
      "outputs": [
        {
          "output_type": "stream",
          "text": [
            "Go to this URL in a browser: https://accounts.google.com/o/oauth2/auth?client_id=947318989803-6bn6qk8qdgf4n4g3pfee6491hc0brc4i.apps.googleusercontent.com&redirect_uri=urn%3aietf%3awg%3aoauth%3a2.0%3aoob&response_type=code&scope=email%20https%3a%2f%2fwww.googleapis.com%2fauth%2fdocs.test%20https%3a%2f%2fwww.googleapis.com%2fauth%2fdrive%20https%3a%2f%2fwww.googleapis.com%2fauth%2fdrive.photos.readonly%20https%3a%2f%2fwww.googleapis.com%2fauth%2fpeopleapi.readonly\n",
            "\n",
            "Enter your authorization code:\n",
            "··········\n",
            "Mounted at /content/gdrive\n"
          ],
          "name": "stdout"
        }
      ]
    },
    {
      "cell_type": "code",
      "metadata": {
        "id": "kmfuk0Zfy3_7"
      },
      "source": [
        "import pandas as pd\n",
        "import numpy as np\n",
        "%matplotlib inline"
      ],
      "execution_count": null,
      "outputs": []
    },
    {
      "cell_type": "code",
      "metadata": {
        "id": "Qpl8zaXFy4Aj"
      },
      "source": [
        "import warnings\n",
        "warnings.filterwarnings('ignore')"
      ],
      "execution_count": null,
      "outputs": []
    },
    {
      "cell_type": "code",
      "metadata": {
        "id": "knMNE1IXy4A_"
      },
      "source": [
        "from statsmodels.tsa.statespace.sarimax import SARIMAX"
      ],
      "execution_count": null,
      "outputs": []
    },
    {
      "cell_type": "code",
      "metadata": {
        "id": "VRaTN2s5y4BV"
      },
      "source": [
        "from statsmodels.tsa.seasonal import seasonal_decompose"
      ],
      "execution_count": null,
      "outputs": []
    },
    {
      "cell_type": "code",
      "metadata": {
        "id": "6QY7pCCZy4Bq",
        "colab": {
          "base_uri": "https://localhost:8080/",
          "height": 221
        },
        "outputId": "e60e3bf6-9304-47a4-eda2-60e64d1daac4"
      },
      "source": [
        "!pip install pmdarima\n",
        "from pmdarima import auto_arima"
      ],
      "execution_count": null,
      "outputs": [
        {
          "output_type": "stream",
          "text": [
            "Requirement already satisfied: pmdarima in /usr/local/lib/python3.6/dist-packages (1.5.2)\n",
            "Requirement already satisfied: Cython>=0.29 in /usr/local/lib/python3.6/dist-packages (from pmdarima) (0.29.14)\n",
            "Requirement already satisfied: scikit-learn>=0.19 in /usr/local/lib/python3.6/dist-packages (from pmdarima) (0.22.1)\n",
            "Requirement already satisfied: numpy>=1.16 in /usr/local/lib/python3.6/dist-packages (from pmdarima) (1.17.5)\n",
            "Requirement already satisfied: scipy>=1.3 in /usr/local/lib/python3.6/dist-packages (from pmdarima) (1.4.1)\n",
            "Requirement already satisfied: statsmodels>=0.10.0 in /usr/local/lib/python3.6/dist-packages (from pmdarima) (0.10.2)\n",
            "Requirement already satisfied: pandas>=0.19 in /usr/local/lib/python3.6/dist-packages (from pmdarima) (0.25.3)\n",
            "Requirement already satisfied: joblib>=0.11 in /usr/local/lib/python3.6/dist-packages (from pmdarima) (0.14.1)\n",
            "Requirement already satisfied: patsy>=0.4.0 in /usr/local/lib/python3.6/dist-packages (from statsmodels>=0.10.0->pmdarima) (0.5.1)\n",
            "Requirement already satisfied: python-dateutil>=2.6.1 in /usr/local/lib/python3.6/dist-packages (from pandas>=0.19->pmdarima) (2.6.1)\n",
            "Requirement already satisfied: pytz>=2017.2 in /usr/local/lib/python3.6/dist-packages (from pandas>=0.19->pmdarima) (2018.9)\n",
            "Requirement already satisfied: six in /usr/local/lib/python3.6/dist-packages (from patsy>=0.4.0->statsmodels>=0.10.0->pmdarima) (1.12.0)\n"
          ],
          "name": "stdout"
        }
      ]
    },
    {
      "cell_type": "code",
      "metadata": {
        "id": "0eBv1WpNy4CO"
      },
      "source": [
        "df = pd.read_excel('/content/gdrive/My Drive/Sample/Month_Wise_Punjab.xlsx', index_col='arrival_date',parse_dates=True)\n",
        "df.index.freq='MS'"
      ],
      "execution_count": null,
      "outputs": []
    },
    {
      "cell_type": "code",
      "metadata": {
        "scrolled": true,
        "id": "SQ8yadKwy4Cd",
        "colab": {
          "base_uri": "https://localhost:8080/",
          "height": 297
        },
        "outputId": "62b03106-70c9-4a89-dcb5-61d512e16020"
      },
      "source": [
        "df.plot()"
      ],
      "execution_count": null,
      "outputs": [
        {
          "output_type": "execute_result",
          "data": {
            "text/plain": [
              "<matplotlib.axes._subplots.AxesSubplot at 0x7f617bdc3080>"
            ]
          },
          "metadata": {
            "tags": []
          },
          "execution_count": 98
        },
        {
          "output_type": "display_data",
          "data": {
            "image/png": "[encoded data removed]",
            "text/plain": [
              "<Figure size 432x288 with 1 Axes>"
            ]
          },
          "metadata": {
            "tags": []
          }
        }
      ]
    },
    {
      "cell_type": "code",
      "metadata": {
        "scrolled": true,
        "id": "mGkchWppy4DG",
        "colab": {
          "base_uri": "https://localhost:8080/",
          "height": 297
        },
        "outputId": "6d481e50-55da-4b31-a7dc-72405af91eaa"
      },
      "source": [
        "result = seasonal_decompose(df['avg_modal_price'],model='add')\n",
        "result.plot();"
      ],
      "execution_count": null,
      "outputs": [
        {
          "output_type": "display_data",
          "data": {
            "image/png": "[encoded data removed]",
            "text/plain": [
              "<Figure size 432x288 with 4 Axes>"
            ]
          },
          "metadata": {
            "tags": []
          }
        }
      ]
    },
    {
      "cell_type": "code",
      "metadata": {
        "id": "EreRYpPcsDHA",
        "colab": {
          "base_uri": "https://localhost:8080/",
          "height": 515
        },
        "outputId": "3d6e6e4a-03a5-4dc3-9a41-9c1b7afad642"
      },
      "source": [
        "result.seasonal.plot(figsize=(12,8))"
      ],
      "execution_count": null,
      "outputs": [
        {
          "output_type": "execute_result",
          "data": {
            "text/plain": [
              "<matplotlib.axes._subplots.AxesSubplot at 0x7f617c48ca90>"
            ]
          },
          "metadata": {
            "tags": []
          },
          "execution_count": 100
        },
        {
          "output_type": "display_data",
          "data": {
            "image/png": "[encoded data removed]",
            "text/plain": [
              "<Figure size 864x576 with 1 Axes>"
            ]
          },
          "metadata": {
            "tags": []
          }
        }
      ]
    },
    {
      "cell_type": "code",
      "metadata": {
        "id": "_mWL4hk_y4DZ",
        "colab": {
          "base_uri": "https://localhost:8080/",
          "height": 524
        },
        "outputId": "eaacbbb7-ca60-4cd5-93d7-6ab9464021c4"
      },
      "source": [
        "auto_arima(df['avg_modal_price'],seasonal=True,m=12).summary()"
      ],
      "execution_count": null,
      "outputs": [
        {
          "output_type": "execute_result",
          "data": {
            "text/html": [
              "<table class=\"simpletable\">\n",
              "<caption>Statespace Model Results</caption>\n",
              "<tr>\n",
              "  <th>Dep. Variable:</th>                  <td>y</td>               <th>  No. Observations:  </th>    <td>60</td>   \n",
              "</tr>\n",
              "<tr>\n",
              "  <th>Model:</th>           <td>SARIMAX(2, 1, 1)x(2, 0, 0, 12)</td> <th>  Log Likelihood     </th> <td>-395.283</td>\n",
              "</tr>\n",
              "<tr>\n",
              "  <th>Date:</th>                   <td>Sat, 25 Jan 2020</td>        <th>  AIC                </th>  <td>804.567</td>\n",
              "</tr>\n",
              "<tr>\n",
              "  <th>Time:</th>                       <td>10:41:06</td>            <th>  BIC                </th>  <td>819.110</td>\n",
              "</tr>\n",
              "<tr>\n",
              "  <th>Sample:</th>                         <td>0</td>               <th>  HQIC               </th>  <td>810.244</td>\n",
              "</tr>\n",
              "<tr>\n",
              "  <th></th>                              <td> - 60</td>             <th>                     </th>     <td> </td>   \n",
              "</tr>\n",
              "<tr>\n",
              "  <th>Covariance Type:</th>               <td>opg</td>              <th>                     </th>     <td> </td>   \n",
              "</tr>\n",
              "</table>\n",
              "<table class=\"simpletable\">\n",
              "<tr>\n",
              "      <td></td>         <th>coef</th>     <th>std err</th>      <th>z</th>      <th>P>|z|</th>  <th>[0.025</th>    <th>0.975]</th>  \n",
              "</tr>\n",
              "<tr>\n",
              "  <th>intercept</th> <td>    3.7924</td> <td>    2.355</td> <td>    1.610</td> <td> 0.107</td> <td>   -0.824</td> <td>    8.409</td>\n",
              "</tr>\n",
              "<tr>\n",
              "  <th>ar.L1</th>     <td>    1.1925</td> <td>    0.159</td> <td>    7.493</td> <td> 0.000</td> <td>    0.881</td> <td>    1.504</td>\n",
              "</tr>\n",
              "<tr>\n",
              "  <th>ar.L2</th>     <td>   -0.4036</td> <td>    0.139</td> <td>   -2.906</td> <td> 0.004</td> <td>   -0.676</td> <td>   -0.131</td>\n",
              "</tr>\n",
              "<tr>\n",
              "  <th>ma.L1</th>     <td>   -0.9999</td> <td>    0.157</td> <td>   -6.374</td> <td> 0.000</td> <td>   -1.307</td> <td>   -0.692</td>\n",
              "</tr>\n",
              "<tr>\n",
              "  <th>ar.S.L12</th>  <td>   -0.2566</td> <td>    0.143</td> <td>   -1.794</td> <td> 0.073</td> <td>   -0.537</td> <td>    0.024</td>\n",
              "</tr>\n",
              "<tr>\n",
              "  <th>ar.S.L24</th>  <td>    0.3017</td> <td>    0.161</td> <td>    1.875</td> <td> 0.061</td> <td>   -0.014</td> <td>    0.617</td>\n",
              "</tr>\n",
              "<tr>\n",
              "  <th>sigma2</th>    <td> 3.401e+04</td> <td>  4.6e-06</td> <td> 7.39e+09</td> <td> 0.000</td> <td>  3.4e+04</td> <td>  3.4e+04</td>\n",
              "</tr>\n",
              "</table>\n",
              "<table class=\"simpletable\">\n",
              "<tr>\n",
              "  <th>Ljung-Box (Q):</th>          <td>23.37</td> <th>  Jarque-Bera (JB):  </th> <td>3.30</td>\n",
              "</tr>\n",
              "<tr>\n",
              "  <th>Prob(Q):</th>                <td>0.98</td>  <th>  Prob(JB):          </th> <td>0.19</td>\n",
              "</tr>\n",
              "<tr>\n",
              "  <th>Heteroskedasticity (H):</th> <td>1.16</td>  <th>  Skew:              </th> <td>0.40</td>\n",
              "</tr>\n",
              "<tr>\n",
              "  <th>Prob(H) (two-sided):</th>    <td>0.75</td>  <th>  Kurtosis:          </th> <td>3.84</td>\n",
              "</tr>\n",
              "</table><br/><br/>Warnings:<br/>[1] Covariance matrix calculated using the outer product of gradients (complex-step).<br/>[2] Covariance matrix is singular or near-singular, with condition number 9.91e+26. Standard errors may be unstable."
            ],
            "text/plain": [
              "<class 'statsmodels.iolib.summary.Summary'>\n",
              "\"\"\"\n",
              "                                 Statespace Model Results                                 \n",
              "==========================================================================================\n",
              "Dep. Variable:                                  y   No. Observations:                   60\n",
              "Model:             SARIMAX(2, 1, 1)x(2, 0, 0, 12)   Log Likelihood                -395.283\n",
              "Date:                            Sat, 25 Jan 2020   AIC                            804.567\n",
              "Time:                                    10:41:06   BIC                            819.110\n",
              "Sample:                                         0   HQIC                           810.244\n",
              "                                             - 60                                         \n",
              "Covariance Type:                              opg                                         \n",
              "==============================================================================\n",
              "                 coef    std err          z      P>|z|      [0.025      0.975]\n",
              "------------------------------------------------------------------------------\n",
              "intercept      3.7924      2.355      1.610      0.107      -0.824       8.409\n",
              "ar.L1          1.1925      0.159      7.493      0.000       0.881       1.504\n",
              "ar.L2         -0.4036      0.139     -2.906      0.004      -0.676      -0.131\n",
              "ma.L1         -0.9999      0.157     -6.374      0.000      -1.307      -0.692\n",
              "ar.S.L12      -0.2566      0.143     -1.794      0.073      -0.537       0.024\n",
              "ar.S.L24       0.3017      0.161      1.875      0.061      -0.014       0.617\n",
              "sigma2      3.401e+04    4.6e-06   7.39e+09      0.000     3.4e+04     3.4e+04\n",
              "===================================================================================\n",
              "Ljung-Box (Q):                       23.37   Jarque-Bera (JB):                 3.30\n",
              "Prob(Q):                              0.98   Prob(JB):                         0.19\n",
              "Heteroskedasticity (H):               1.16   Skew:                             0.40\n",
              "Prob(H) (two-sided):                  0.75   Kurtosis:                         3.84\n",
              "===================================================================================\n",
              "\n",
              "Warnings:\n",
              "[1] Covariance matrix calculated using the outer product of gradients (complex-step).\n",
              "[2] Covariance matrix is singular or near-singular, with condition number 9.91e+26. Standard errors may be unstable.\n",
              "\"\"\""
            ]
          },
          "metadata": {
            "tags": []
          },
          "execution_count": 118
        }
      ]
    },
    {
      "cell_type": "code",
      "metadata": {
        "id": "KXZsytnny4FN",
        "colab": {
          "base_uri": "https://localhost:8080/",
          "height": 34
        },
        "outputId": "976f7ffd-9a51-44c3-d5a5-0c9b5f55a862"
      },
      "source": [
        "len(df)"
      ],
      "execution_count": null,
      "outputs": [
        {
          "output_type": "execute_result",
          "data": {
            "text/plain": [
              "60"
            ]
          },
          "metadata": {
            "tags": []
          },
          "execution_count": 75
        },
        {
          "output_type": "execute_result",
          "data": {
            "text/plain": [
              "60"
            ]
          },
          "metadata": {
            "tags": []
          },
          "execution_count": 102
        }
      ]
    },
    {
      "cell_type": "code",
      "metadata": {
        "id": "04z-KtO8y4Fa"
      },
      "source": [
        "train = df.iloc[:50]\n",
        "test = df.iloc[50:]"
      ],
      "execution_count": null,
      "outputs": []
    },
    {
      "cell_type": "code",
      "metadata": {
        "id": "g6S-bsl2y4Fq",
        "colab": {
          "base_uri": "https://localhost:8080/",
          "height": 955
        },
        "outputId": "aa2719d8-5f42-46f0-d660-4a8ccc47fed8"
      },
      "source": [
        "model = SARIMAX(train['avg_modal_price'],order=(2, 1, 1),seasonal_order=(2, 0, 0, 12))\n",
        "results = model.fit()\n",
        "results.summary()"
      ],
      "execution_count": null,
      "outputs": [
        {
          "output_type": "execute_result",
          "data": {
            "text/html": [
              "<table class=\"simpletable\">\n",
              "<caption>Statespace Model Results</caption>\n",
              "<tr>\n",
              "  <th>Dep. Variable:</th>           <td>avg_modal_price</td>        <th>  No. Observations:  </th>    <td>50</td>   \n",
              "</tr>\n",
              "<tr>\n",
              "  <th>Model:</th>           <td>SARIMAX(2, 1, 1)x(2, 0, 0, 12)</td> <th>  Log Likelihood     </th> <td>-330.537</td>\n",
              "</tr>\n",
              "<tr>\n",
              "  <th>Date:</th>                   <td>Sat, 25 Jan 2020</td>        <th>  AIC                </th>  <td>673.074</td>\n",
              "</tr>\n",
              "<tr>\n",
              "  <th>Time:</th>                       <td>10:38:31</td>            <th>  BIC                </th>  <td>684.424</td>\n",
              "</tr>\n",
              "<tr>\n",
              "  <th>Sample:</th>                    <td>01-01-2015</td>           <th>  HQIC               </th>  <td>677.380</td>\n",
              "</tr>\n",
              "<tr>\n",
              "  <th></th>                          <td>- 02-01-2019</td>          <th>                     </th>     <td> </td>   \n",
              "</tr>\n",
              "<tr>\n",
              "  <th>Covariance Type:</th>               <td>opg</td>              <th>                     </th>     <td> </td>   \n",
              "</tr>\n",
              "</table>\n",
              "<table class=\"simpletable\">\n",
              "<tr>\n",
              "      <td></td>        <th>coef</th>     <th>std err</th>      <th>z</th>      <th>P>|z|</th>  <th>[0.025</th>    <th>0.975]</th>  \n",
              "</tr>\n",
              "<tr>\n",
              "  <th>ar.L1</th>    <td>   -0.3681</td> <td>    0.973</td> <td>   -0.378</td> <td> 0.705</td> <td>   -2.275</td> <td>    1.538</td>\n",
              "</tr>\n",
              "<tr>\n",
              "  <th>ar.L2</th>    <td>    0.3067</td> <td>    0.271</td> <td>    1.131</td> <td> 0.258</td> <td>   -0.225</td> <td>    0.838</td>\n",
              "</tr>\n",
              "<tr>\n",
              "  <th>ma.L1</th>    <td>    0.6764</td> <td>    0.982</td> <td>    0.689</td> <td> 0.491</td> <td>   -1.248</td> <td>    2.600</td>\n",
              "</tr>\n",
              "<tr>\n",
              "  <th>ar.S.L12</th> <td>   -0.2409</td> <td>    0.132</td> <td>   -1.828</td> <td> 0.068</td> <td>   -0.499</td> <td>    0.017</td>\n",
              "</tr>\n",
              "<tr>\n",
              "  <th>ar.S.L24</th> <td>    0.3146</td> <td>    0.200</td> <td>    1.571</td> <td> 0.116</td> <td>   -0.078</td> <td>    0.707</td>\n",
              "</tr>\n",
              "<tr>\n",
              "  <th>sigma2</th>   <td> 3.916e+04</td> <td> 8374.690</td> <td>    4.677</td> <td> 0.000</td> <td> 2.28e+04</td> <td> 5.56e+04</td>\n",
              "</tr>\n",
              "</table>\n",
              "<table class=\"simpletable\">\n",
              "<tr>\n",
              "  <th>Ljung-Box (Q):</th>          <td>25.60</td> <th>  Jarque-Bera (JB):  </th> <td>3.60</td> \n",
              "</tr>\n",
              "<tr>\n",
              "  <th>Prob(Q):</th>                <td>0.96</td>  <th>  Prob(JB):          </th> <td>0.17</td> \n",
              "</tr>\n",
              "<tr>\n",
              "  <th>Heteroskedasticity (H):</th> <td>1.00</td>  <th>  Skew:              </th> <td>-0.30</td>\n",
              "</tr>\n",
              "<tr>\n",
              "  <th>Prob(H) (two-sided):</th>    <td>0.99</td>  <th>  Kurtosis:          </th> <td>4.18</td> \n",
              "</tr>\n",
              "</table><br/><br/>Warnings:<br/>[1] Covariance matrix calculated using the outer product of gradients (complex-step)."
            ],
            "text/plain": [
              "<class 'statsmodels.iolib.summary.Summary'>\n",
              "\"\"\"\n",
              "                                 Statespace Model Results                                 \n",
              "==========================================================================================\n",
              "Dep. Variable:                    avg_modal_price   No. Observations:                   50\n",
              "Model:             SARIMAX(2, 1, 1)x(2, 0, 0, 12)   Log Likelihood                -330.537\n",
              "Date:                            Sat, 25 Jan 2020   AIC                            673.074\n",
              "Time:                                    10:38:31   BIC                            684.424\n",
              "Sample:                                01-01-2015   HQIC                           677.380\n",
              "                                     - 02-01-2019                                         \n",
              "Covariance Type:                              opg                                         \n",
              "==============================================================================\n",
              "                 coef    std err          z      P>|z|      [0.025      0.975]\n",
              "------------------------------------------------------------------------------\n",
              "ar.L1         -0.3681      0.973     -0.378      0.705      -2.275       1.538\n",
              "ar.L2          0.3067      0.271      1.131      0.258      -0.225       0.838\n",
              "ma.L1          0.6764      0.982      0.689      0.491      -1.248       2.600\n",
              "ar.S.L12      -0.2409      0.132     -1.828      0.068      -0.499       0.017\n",
              "ar.S.L24       0.3146      0.200      1.571      0.116      -0.078       0.707\n",
              "sigma2      3.916e+04   8374.690      4.677      0.000    2.28e+04    5.56e+04\n",
              "===================================================================================\n",
              "Ljung-Box (Q):                       25.60   Jarque-Bera (JB):                 3.60\n",
              "Prob(Q):                              0.96   Prob(JB):                         0.17\n",
              "Heteroskedasticity (H):               1.00   Skew:                            -0.30\n",
              "Prob(H) (two-sided):                  0.99   Kurtosis:                         4.18\n",
              "===================================================================================\n",
              "\n",
              "Warnings:\n",
              "[1] Covariance matrix calculated using the outer product of gradients (complex-step).\n",
              "\"\"\""
            ]
          },
          "metadata": {
            "tags": []
          },
          "execution_count": 77
        },
        {
          "output_type": "execute_result",
          "data": {
            "text/html": [
              "<table class=\"simpletable\">\n",
              "<caption>Statespace Model Results</caption>\n",
              "<tr>\n",
              "  <th>Dep. Variable:</th>           <td>avg_modal_price</td>        <th>  No. Observations:  </th>    <td>50</td>   \n",
              "</tr>\n",
              "<tr>\n",
              "  <th>Model:</th>           <td>SARIMAX(2, 1, 1)x(2, 0, 0, 12)</td> <th>  Log Likelihood     </th> <td>-330.537</td>\n",
              "</tr>\n",
              "<tr>\n",
              "  <th>Date:</th>                   <td>Sat, 25 Jan 2020</td>        <th>  AIC                </th>  <td>673.074</td>\n",
              "</tr>\n",
              "<tr>\n",
              "  <th>Time:</th>                       <td>10:39:03</td>            <th>  BIC                </th>  <td>684.424</td>\n",
              "</tr>\n",
              "<tr>\n",
              "  <th>Sample:</th>                    <td>01-01-2015</td>           <th>  HQIC               </th>  <td>677.380</td>\n",
              "</tr>\n",
              "<tr>\n",
              "  <th></th>                          <td>- 02-01-2019</td>          <th>                     </th>     <td> </td>   \n",
              "</tr>\n",
              "<tr>\n",
              "  <th>Covariance Type:</th>               <td>opg</td>              <th>                     </th>     <td> </td>   \n",
              "</tr>\n",
              "</table>\n",
              "<table class=\"simpletable\">\n",
              "<tr>\n",
              "      <td></td>        <th>coef</th>     <th>std err</th>      <th>z</th>      <th>P>|z|</th>  <th>[0.025</th>    <th>0.975]</th>  \n",
              "</tr>\n",
              "<tr>\n",
              "  <th>ar.L1</th>    <td>   -0.3681</td> <td>    0.973</td> <td>   -0.378</td> <td> 0.705</td> <td>   -2.275</td> <td>    1.538</td>\n",
              "</tr>\n",
              "<tr>\n",
              "  <th>ar.L2</th>    <td>    0.3067</td> <td>    0.271</td> <td>    1.131</td> <td> 0.258</td> <td>   -0.225</td> <td>    0.838</td>\n",
              "</tr>\n",
              "<tr>\n",
              "  <th>ma.L1</th>    <td>    0.6764</td> <td>    0.982</td> <td>    0.689</td> <td> 0.491</td> <td>   -1.248</td> <td>    2.600</td>\n",
              "</tr>\n",
              "<tr>\n",
              "  <th>ar.S.L12</th> <td>   -0.2409</td> <td>    0.132</td> <td>   -1.828</td> <td> 0.068</td> <td>   -0.499</td> <td>    0.017</td>\n",
              "</tr>\n",
              "<tr>\n",
              "  <th>ar.S.L24</th> <td>    0.3146</td> <td>    0.200</td> <td>    1.571</td> <td> 0.116</td> <td>   -0.078</td> <td>    0.707</td>\n",
              "</tr>\n",
              "<tr>\n",
              "  <th>sigma2</th>   <td> 3.916e+04</td> <td> 8374.690</td> <td>    4.677</td> <td> 0.000</td> <td> 2.28e+04</td> <td> 5.56e+04</td>\n",
              "</tr>\n",
              "</table>\n",
              "<table class=\"simpletable\">\n",
              "<tr>\n",
              "  <th>Ljung-Box (Q):</th>          <td>25.60</td> <th>  Jarque-Bera (JB):  </th> <td>3.60</td> \n",
              "</tr>\n",
              "<tr>\n",
              "  <th>Prob(Q):</th>                <td>0.96</td>  <th>  Prob(JB):          </th> <td>0.17</td> \n",
              "</tr>\n",
              "<tr>\n",
              "  <th>Heteroskedasticity (H):</th> <td>1.00</td>  <th>  Skew:              </th> <td>-0.30</td>\n",
              "</tr>\n",
              "<tr>\n",
              "  <th>Prob(H) (two-sided):</th>    <td>0.99</td>  <th>  Kurtosis:          </th> <td>4.18</td> \n",
              "</tr>\n",
              "</table><br/><br/>Warnings:<br/>[1] Covariance matrix calculated using the outer product of gradients (complex-step)."
            ],
            "text/plain": [
              "<class 'statsmodels.iolib.summary.Summary'>\n",
              "\"\"\"\n",
              "                                 Statespace Model Results                                 \n",
              "==========================================================================================\n",
              "Dep. Variable:                    avg_modal_price   No. Observations:                   50\n",
              "Model:             SARIMAX(2, 1, 1)x(2, 0, 0, 12)   Log Likelihood                -330.537\n",
              "Date:                            Sat, 25 Jan 2020   AIC                            673.074\n",
              "Time:                                    10:39:03   BIC                            684.424\n",
              "Sample:                                01-01-2015   HQIC                           677.380\n",
              "                                     - 02-01-2019                                         \n",
              "Covariance Type:                              opg                                         \n",
              "==============================================================================\n",
              "                 coef    std err          z      P>|z|      [0.025      0.975]\n",
              "------------------------------------------------------------------------------\n",
              "ar.L1         -0.3681      0.973     -0.378      0.705      -2.275       1.538\n",
              "ar.L2          0.3067      0.271      1.131      0.258      -0.225       0.838\n",
              "ma.L1          0.6764      0.982      0.689      0.491      -1.248       2.600\n",
              "ar.S.L12      -0.2409      0.132     -1.828      0.068      -0.499       0.017\n",
              "ar.S.L24       0.3146      0.200      1.571      0.116      -0.078       0.707\n",
              "sigma2      3.916e+04   8374.690      4.677      0.000    2.28e+04    5.56e+04\n",
              "===================================================================================\n",
              "Ljung-Box (Q):                       25.60   Jarque-Bera (JB):                 3.60\n",
              "Prob(Q):                              0.96   Prob(JB):                         0.17\n",
              "Heteroskedasticity (H):               1.00   Skew:                            -0.30\n",
              "Prob(H) (two-sided):                  0.99   Kurtosis:                         4.18\n",
              "===================================================================================\n",
              "\n",
              "Warnings:\n",
              "[1] Covariance matrix calculated using the outer product of gradients (complex-step).\n",
              "\"\"\""
            ]
          },
          "metadata": {
            "tags": []
          },
          "execution_count": 104
        }
      ]
    },
    {
      "cell_type": "code",
      "metadata": {
        "id": "m53NR3Lfy4F3"
      },
      "source": [
        "start = len(train)\n",
        "end = len(train) + len(test) - 1\n",
        "\n",
        "predictions = results.predict(start,end,typ='levels').rename('Predictions')"
      ],
      "execution_count": null,
      "outputs": []
    },
    {
      "cell_type": "code",
      "metadata": {
        "id": "HIeNnkzfy4GF",
        "colab": {
          "base_uri": "https://localhost:8080/",
          "height": 374
        },
        "outputId": "1ddd9d36-3cdd-4843-c713-00889a94435b"
      },
      "source": [
        "predictions"
      ],
      "execution_count": null,
      "outputs": [
        {
          "output_type": "execute_result",
          "data": {
            "text/plain": [
              "2019-03-01    5439.799671\n",
              "2019-04-01    5360.143734\n",
              "2019-05-01    5026.503403\n",
              "2019-06-01    4856.877376\n",
              "2019-07-01    4752.490716\n",
              "2019-08-01    4739.978218\n",
              "2019-09-01    4729.777266\n",
              "2019-10-01    4933.682019\n",
              "2019-11-01    4955.570983\n",
              "2019-12-01    5003.785176\n",
              "Freq: MS, Name: Predictions, dtype: float64"
            ]
          },
          "metadata": {
            "tags": []
          },
          "execution_count": 79
        },
        {
          "output_type": "execute_result",
          "data": {
            "text/plain": [
              "2019-03-01    5439.799671\n",
              "2019-04-01    5360.143734\n",
              "2019-05-01    5026.503403\n",
              "2019-06-01    4856.877376\n",
              "2019-07-01    4752.490716\n",
              "2019-08-01    4739.978218\n",
              "2019-09-01    4729.777266\n",
              "2019-10-01    4933.682019\n",
              "2019-11-01    4955.570983\n",
              "2019-12-01    5003.785176\n",
              "Freq: MS, Name: Predictions, dtype: float64"
            ]
          },
          "metadata": {
            "tags": []
          },
          "execution_count": 106
        }
      ]
    },
    {
      "cell_type": "code",
      "metadata": {
        "id": "zLnFmejJy4Gg",
        "colab": {
          "base_uri": "https://localhost:8080/",
          "height": 763
        },
        "outputId": "6d883dd4-03f4-44dd-8b28-f7344ca129cb"
      },
      "source": [
        "test"
      ],
      "execution_count": null,
      "outputs": [
        {
          "output_type": "execute_result",
          "data": {
            "text/html": [
              "<div>\n",
              "<style scoped>\n",
              "    .dataframe tbody tr th:only-of-type {\n",
              "        vertical-align: middle;\n",
              "    }\n",
              "\n",
              "    .dataframe tbody tr th {\n",
              "        vertical-align: top;\n",
              "    }\n",
              "\n",
              "    .dataframe thead th {\n",
              "        text-align: right;\n",
              "    }\n",
              "</style>\n",
              "<table border=\"1\" class=\"dataframe\">\n",
              "  <thead>\n",
              "    <tr style=\"text-align: right;\">\n",
              "      <th></th>\n",
              "      <th>state</th>\n",
              "      <th>district</th>\n",
              "      <th>market</th>\n",
              "      <th>avg_modal_price</th>\n",
              "    </tr>\n",
              "    <tr>\n",
              "      <th>arrival_date</th>\n",
              "      <th></th>\n",
              "      <th></th>\n",
              "      <th></th>\n",
              "      <th></th>\n",
              "    </tr>\n",
              "  </thead>\n",
              "  <tbody>\n",
              "    <tr>\n",
              "      <th>2019-03-01</th>\n",
              "      <td>Punjab</td>\n",
              "      <td>Patiala</td>\n",
              "      <td>Patiala</td>\n",
              "      <td>5741.600000</td>\n",
              "    </tr>\n",
              "    <tr>\n",
              "      <th>2019-04-01</th>\n",
              "      <td>Punjab</td>\n",
              "      <td>Patiala</td>\n",
              "      <td>Patiala</td>\n",
              "      <td>6069.772727</td>\n",
              "    </tr>\n",
              "    <tr>\n",
              "      <th>2019-05-01</th>\n",
              "      <td>Punjab</td>\n",
              "      <td>Patiala</td>\n",
              "      <td>Patiala</td>\n",
              "      <td>5585.243506</td>\n",
              "    </tr>\n",
              "    <tr>\n",
              "      <th>2019-06-01</th>\n",
              "      <td>Punjab</td>\n",
              "      <td>Patiala</td>\n",
              "      <td>Patiala</td>\n",
              "      <td>5342.978896</td>\n",
              "    </tr>\n",
              "    <tr>\n",
              "      <th>2019-07-01</th>\n",
              "      <td>Punjab</td>\n",
              "      <td>Patiala</td>\n",
              "      <td>Patiala</td>\n",
              "      <td>5221.846590</td>\n",
              "    </tr>\n",
              "    <tr>\n",
              "      <th>2019-08-01</th>\n",
              "      <td>Punjab</td>\n",
              "      <td>Patiala</td>\n",
              "      <td>Patiala</td>\n",
              "      <td>5161.280438</td>\n",
              "    </tr>\n",
              "    <tr>\n",
              "      <th>2019-09-01</th>\n",
              "      <td>Punjab</td>\n",
              "      <td>Patiala</td>\n",
              "      <td>Patiala</td>\n",
              "      <td>5100.714285</td>\n",
              "    </tr>\n",
              "    <tr>\n",
              "      <th>2019-10-01</th>\n",
              "      <td>Punjab</td>\n",
              "      <td>Patiala</td>\n",
              "      <td>Patiala</td>\n",
              "      <td>4925.000000</td>\n",
              "    </tr>\n",
              "    <tr>\n",
              "      <th>2019-11-01</th>\n",
              "      <td>Punjab</td>\n",
              "      <td>Patiala</td>\n",
              "      <td>Patiala</td>\n",
              "      <td>5007.222200</td>\n",
              "    </tr>\n",
              "    <tr>\n",
              "      <th>2019-12-01</th>\n",
              "      <td>Punjab</td>\n",
              "      <td>Patiala</td>\n",
              "      <td>Patiala</td>\n",
              "      <td>5222.857142</td>\n",
              "    </tr>\n",
              "  </tbody>\n",
              "</table>\n",
              "</div>"
            ],
            "text/plain": [
              "               state district   market  avg_modal_price\n",
              "arrival_date                                           \n",
              "2019-03-01    Punjab  Patiala  Patiala      5741.600000\n",
              "2019-04-01    Punjab  Patiala  Patiala      6069.772727\n",
              "2019-05-01    Punjab  Patiala  Patiala      5585.243506\n",
              "2019-06-01    Punjab  Patiala  Patiala      5342.978896\n",
              "2019-07-01    Punjab  Patiala  Patiala      5221.846590\n",
              "2019-08-01    Punjab  Patiala  Patiala      5161.280438\n",
              "2019-09-01    Punjab  Patiala  Patiala      5100.714285\n",
              "2019-10-01    Punjab  Patiala  Patiala      4925.000000\n",
              "2019-11-01    Punjab  Patiala  Patiala      5007.222200\n",
              "2019-12-01    Punjab  Patiala  Patiala      5222.857142"
            ]
          },
          "metadata": {
            "tags": []
          },
          "execution_count": 80
        },
        {
          "output_type": "execute_result",
          "data": {
            "text/html": [
              "<div>\n",
              "<style scoped>\n",
              "    .dataframe tbody tr th:only-of-type {\n",
              "        vertical-align: middle;\n",
              "    }\n",
              "\n",
              "    .dataframe tbody tr th {\n",
              "        vertical-align: top;\n",
              "    }\n",
              "\n",
              "    .dataframe thead th {\n",
              "        text-align: right;\n",
              "    }\n",
              "</style>\n",
              "<table border=\"1\" class=\"dataframe\">\n",
              "  <thead>\n",
              "    <tr style=\"text-align: right;\">\n",
              "      <th></th>\n",
              "      <th>state</th>\n",
              "      <th>district</th>\n",
              "      <th>market</th>\n",
              "      <th>avg_modal_price</th>\n",
              "    </tr>\n",
              "    <tr>\n",
              "      <th>arrival_date</th>\n",
              "      <th></th>\n",
              "      <th></th>\n",
              "      <th></th>\n",
              "      <th></th>\n",
              "    </tr>\n",
              "  </thead>\n",
              "  <tbody>\n",
              "    <tr>\n",
              "      <th>2019-03-01</th>\n",
              "      <td>Punjab</td>\n",
              "      <td>Patiala</td>\n",
              "      <td>Patiala</td>\n",
              "      <td>5741.600000</td>\n",
              "    </tr>\n",
              "    <tr>\n",
              "      <th>2019-04-01</th>\n",
              "      <td>Punjab</td>\n",
              "      <td>Patiala</td>\n",
              "      <td>Patiala</td>\n",
              "      <td>6069.772727</td>\n",
              "    </tr>\n",
              "    <tr>\n",
              "      <th>2019-05-01</th>\n",
              "      <td>Punjab</td>\n",
              "      <td>Patiala</td>\n",
              "      <td>Patiala</td>\n",
              "      <td>5585.243506</td>\n",
              "    </tr>\n",
              "    <tr>\n",
              "      <th>2019-06-01</th>\n",
              "      <td>Punjab</td>\n",
              "      <td>Patiala</td>\n",
              "      <td>Patiala</td>\n",
              "      <td>5342.978896</td>\n",
              "    </tr>\n",
              "    <tr>\n",
              "      <th>2019-07-01</th>\n",
              "      <td>Punjab</td>\n",
              "      <td>Patiala</td>\n",
              "      <td>Patiala</td>\n",
              "      <td>5221.846590</td>\n",
              "    </tr>\n",
              "    <tr>\n",
              "      <th>2019-08-01</th>\n",
              "      <td>Punjab</td>\n",
              "      <td>Patiala</td>\n",
              "      <td>Patiala</td>\n",
              "      <td>5161.280438</td>\n",
              "    </tr>\n",
              "    <tr>\n",
              "      <th>2019-09-01</th>\n",
              "      <td>Punjab</td>\n",
              "      <td>Patiala</td>\n",
              "      <td>Patiala</td>\n",
              "      <td>5100.714285</td>\n",
              "    </tr>\n",
              "    <tr>\n",
              "      <th>2019-10-01</th>\n",
              "      <td>Punjab</td>\n",
              "      <td>Patiala</td>\n",
              "      <td>Patiala</td>\n",
              "      <td>4925.000000</td>\n",
              "    </tr>\n",
              "    <tr>\n",
              "      <th>2019-11-01</th>\n",
              "      <td>Punjab</td>\n",
              "      <td>Patiala</td>\n",
              "      <td>Patiala</td>\n",
              "      <td>5007.222200</td>\n",
              "    </tr>\n",
              "    <tr>\n",
              "      <th>2019-12-01</th>\n",
              "      <td>Punjab</td>\n",
              "      <td>Patiala</td>\n",
              "      <td>Patiala</td>\n",
              "      <td>5222.857142</td>\n",
              "    </tr>\n",
              "  </tbody>\n",
              "</table>\n",
              "</div>"
            ],
            "text/plain": [
              "               state district   market  avg_modal_price\n",
              "arrival_date                                           \n",
              "2019-03-01    Punjab  Patiala  Patiala      5741.600000\n",
              "2019-04-01    Punjab  Patiala  Patiala      6069.772727\n",
              "2019-05-01    Punjab  Patiala  Patiala      5585.243506\n",
              "2019-06-01    Punjab  Patiala  Patiala      5342.978896\n",
              "2019-07-01    Punjab  Patiala  Patiala      5221.846590\n",
              "2019-08-01    Punjab  Patiala  Patiala      5161.280438\n",
              "2019-09-01    Punjab  Patiala  Patiala      5100.714285\n",
              "2019-10-01    Punjab  Patiala  Patiala      4925.000000\n",
              "2019-11-01    Punjab  Patiala  Patiala      5007.222200\n",
              "2019-12-01    Punjab  Patiala  Patiala      5222.857142"
            ]
          },
          "metadata": {
            "tags": []
          },
          "execution_count": 107
        }
      ]
    },
    {
      "cell_type": "code",
      "metadata": {
        "id": "5hF0djK9y4Gx",
        "colab": {
          "base_uri": "https://localhost:8080/",
          "height": 199
        },
        "outputId": "244c0c85-d93e-4070-c4cf-afd72dcfdbbd"
      },
      "source": [
        "test['avg_modal_price'].plot(legend=True,figsize=(12,2))\n",
        "predictions.plot(legend=True)"
      ],
      "execution_count": null,
      "outputs": [
        {
          "output_type": "execute_result",
          "data": {
            "text/plain": [
              "<matplotlib.axes._subplots.AxesSubplot at 0x7f617bba8ac8>"
            ]
          },
          "metadata": {
            "tags": []
          },
          "execution_count": 119
        },
        {
          "output_type": "display_data",
          "data": {
            "image/png": "[encoded data removed]",
            "text/plain": [
              "<Figure size 864x144 with 1 Axes>"
            ]
          },
          "metadata": {
            "tags": []
          }
        }
      ]
    },
    {
      "cell_type": "code",
      "metadata": {
        "id": "mF3SnMMftloR"
      },
      "source": [
        "from statsmodels.tools.eval_measures import rmse"
      ],
      "execution_count": null,
      "outputs": []
    },
    {
      "cell_type": "code",
      "metadata": {
        "id": "l5Uf_nuYtl0a",
        "colab": {
          "base_uri": "https://localhost:8080/",
          "height": 34
        },
        "outputId": "0edd3741-98e8-487e-ce74-6ac6a028b3bf"
      },
      "source": [
        "error = rmse(test['avg_modal_price'],predictions)\n",
        "error"
      ],
      "execution_count": null,
      "outputs": [
        {
          "output_type": "execute_result",
          "data": {
            "text/plain": [
              "415.84401619726833"
            ]
          },
          "metadata": {
            "tags": []
          },
          "execution_count": 83
        },
        {
          "output_type": "execute_result",
          "data": {
            "text/plain": [
              "415.84401619726833"
            ]
          },
          "metadata": {
            "tags": []
          },
          "execution_count": 110
        }
      ]
    },
    {
      "cell_type": "code",
      "metadata": {
        "id": "E3B9IEFczPer",
        "colab": {
          "base_uri": "https://localhost:8080/",
          "height": 34
        },
        "outputId": "de1a360c-b510-41f6-c4b0-ee94af8de0e5"
      },
      "source": [
        "test['avg_modal_price'].mean()"
      ],
      "execution_count": null,
      "outputs": [
        {
          "output_type": "execute_result",
          "data": {
            "text/plain": [
              "5337.851578400001"
            ]
          },
          "metadata": {
            "tags": []
          },
          "execution_count": 84
        },
        {
          "output_type": "execute_result",
          "data": {
            "text/plain": [
              "5337.851578400001"
            ]
          },
          "metadata": {
            "tags": []
          },
          "execution_count": 111
        }
      ]
    },
    {
      "cell_type": "code",
      "metadata": {
        "id": "2Aa2mQuqzPoA",
        "colab": {
          "base_uri": "https://localhost:8080/",
          "height": 34
        },
        "outputId": "cc226960-5ede-4183-8a98-660dc85d3021"
      },
      "source": [
        "predictions.mean()"
      ],
      "execution_count": null,
      "outputs": [
        {
          "output_type": "execute_result",
          "data": {
            "text/plain": [
              "4979.860856145689"
            ]
          },
          "metadata": {
            "tags": []
          },
          "execution_count": 85
        },
        {
          "output_type": "execute_result",
          "data": {
            "text/plain": [
              "4979.860856145689"
            ]
          },
          "metadata": {
            "tags": []
          },
          "execution_count": 112
        }
      ]
    },
    {
      "cell_type": "code",
      "metadata": {
        "id": "2tz7-G1_zPtl"
      },
      "source": [
        "model = SARIMAX(df['avg_modal_price'],order=(2, 1, 1),seasonal_order=(2, 0, 0, 12))\n",
        "results = model.fit()"
      ],
      "execution_count": null,
      "outputs": []
    },
    {
      "cell_type": "code",
      "metadata": {
        "id": "CH5Za2k7zPwo"
      },
      "source": [
        "fcast = results.predict(len(df),len(df)+5,typ='levels').rename('SARIMA FORECAST')"
      ],
      "execution_count": null,
      "outputs": []
    },
    {
      "cell_type": "code",
      "metadata": {
        "id": "tf2o3Ss70X7_",
        "colab": {
          "base_uri": "https://localhost:8080/",
          "height": 238
        },
        "outputId": "3667ec73-32db-42dc-a7bd-6d1f55a54eef"
      },
      "source": [
        "fcast"
      ],
      "execution_count": null,
      "outputs": [
        {
          "output_type": "execute_result",
          "data": {
            "text/plain": [
              "2020-01-01    5345.376762\n",
              "2020-02-01    5302.444084\n",
              "2020-03-01    5134.475029\n",
              "2020-04-01    5012.217441\n",
              "2020-05-01    5236.321600\n",
              "2020-06-01    5344.994721\n",
              "Freq: MS, Name: SARIMA FORECAST, dtype: float64"
            ]
          },
          "metadata": {
            "tags": []
          },
          "execution_count": 88
        },
        {
          "output_type": "execute_result",
          "data": {
            "text/plain": [
              "2020-01-01    5345.376762\n",
              "2020-02-01    5302.444084\n",
              "2020-03-01    5134.475029\n",
              "2020-04-01    5012.217441\n",
              "2020-05-01    5236.321600\n",
              "2020-06-01    5344.994721\n",
              "Freq: MS, Name: SARIMA FORECAST, dtype: float64"
            ]
          },
          "metadata": {
            "tags": []
          },
          "execution_count": 115
        }
      ]
    },
    {
      "cell_type": "code",
      "metadata": {
        "id": "ZjFDWKXV0tJX",
        "colab": {
          "base_uri": "https://localhost:8080/",
          "height": 469
        },
        "outputId": "722a5514-82c2-47cd-e78c-d62fabb0caab"
      },
      "source": [
        "df['avg_modal_price'].plot(legend=True,figsize=(12,3))\n",
        "fcast.plot(legend='True')"
      ],
      "execution_count": null,
      "outputs": [
        {
          "output_type": "execute_result",
          "data": {
            "text/plain": [
              "<matplotlib.axes._subplots.AxesSubplot at 0x7f617bf68b00>"
            ]
          },
          "metadata": {
            "tags": []
          },
          "execution_count": 89
        },
        {
          "output_type": "display_data",
          "data": {
            "image/png": "[encoded data removed]",
            "text/plain": [
              "<Figure size 864x216 with 1 Axes>"
            ]
          },
          "metadata": {
            "tags": []
          }
        },
        {
          "output_type": "execute_result",
          "data": {
            "text/plain": [
              "<matplotlib.axes._subplots.AxesSubplot at 0x7f617c0a4d30>"
            ]
          },
          "metadata": {
            "tags": []
          },
          "execution_count": 116
        },
        {
          "output_type": "display_data",
          "data": {
            "image/png": "[encoded data removed]",
            "text/plain": [
              "<Figure size 864x216 with 1 Axes>"
            ]
          },
          "metadata": {
            "tags": []
          }
        }
      ]
    },
    {
      "cell_type": "code",
      "metadata": {
        "id": "wxW0vtzZRmsT"
      },
      "source": [
        "from pandas import DataFrame\n",
        "export_csv = fcast.to_csv ('/content/gdrive/My Drive/Output/export1.csv', index = None, header=True)"
      ],
      "execution_count": null,
      "outputs": []
    }
  ]
}